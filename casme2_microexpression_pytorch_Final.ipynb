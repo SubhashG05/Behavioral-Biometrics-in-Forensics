{
 "cells": [
  {
   "cell_type": "code",
   "execution_count": 1,
   "id": "01e35833",
   "metadata": {},
   "outputs": [
    {
     "data": {
      "text/plain": [
       "True"
      ]
     },
     "execution_count": 1,
     "metadata": {},
     "output_type": "execute_result"
    }
   ],
   "source": [
    "import torch\n",
    "torch.cuda.is_available()"
   ]
  },
  {
   "cell_type": "code",
   "execution_count": 2,
   "id": "043d1494-ba98-46ae-ad0b-0bda5bdd8796",
   "metadata": {
    "scrolled": true
   },
   "outputs": [
    {
     "name": "stdout",
     "output_type": "stream",
     "text": [
      "Requirement already satisfied: torch in c:\\users\\sachi\\anaconda3\\lib\\site-packages (2.5.1+cu124)\n",
      "Requirement already satisfied: torchvision in c:\\users\\sachi\\anaconda3\\lib\\site-packages (0.20.1+cu124)\n",
      "Requirement already satisfied: opencv-python in c:\\users\\sachi\\anaconda3\\lib\\site-packages (4.11.0.86)\n",
      "Requirement already satisfied: scikit-learn in c:\\users\\sachi\\anaconda3\\lib\\site-packages (1.2.2)\n",
      "Requirement already satisfied: matplotlib in c:\\users\\sachi\\anaconda3\\lib\\site-packages (3.8.0)\n",
      "Requirement already satisfied: tqdm in c:\\users\\sachi\\anaconda3\\lib\\site-packages (4.65.0)\n",
      "Requirement already satisfied: filelock in c:\\users\\sachi\\anaconda3\\lib\\site-packages (from torch) (3.13.1)\n",
      "Requirement already satisfied: typing-extensions>=4.8.0 in c:\\users\\sachi\\anaconda3\\lib\\site-packages (from torch) (4.12.2)\n",
      "Requirement already satisfied: networkx in c:\\users\\sachi\\anaconda3\\lib\\site-packages (from torch) (3.1)\n",
      "Requirement already satisfied: jinja2 in c:\\users\\sachi\\anaconda3\\lib\\site-packages (from torch) (3.1.3)\n",
      "Requirement already satisfied: fsspec in c:\\users\\sachi\\anaconda3\\lib\\site-packages (from torch) (2023.10.0)\n",
      "Requirement already satisfied: sympy==1.13.1 in c:\\users\\sachi\\anaconda3\\lib\\site-packages (from torch) (1.13.1)\n",
      "Requirement already satisfied: mpmath<1.4,>=1.1.0 in c:\\users\\sachi\\anaconda3\\lib\\site-packages (from sympy==1.13.1->torch) (1.3.0)\n",
      "Requirement already satisfied: numpy in c:\\users\\sachi\\anaconda3\\lib\\site-packages (from torchvision) (1.26.0)\n",
      "Requirement already satisfied: pillow!=8.3.*,>=5.3.0 in c:\\users\\sachi\\anaconda3\\lib\\site-packages (from torchvision) (10.2.0)\n",
      "Requirement already satisfied: scipy>=1.3.2 in c:\\users\\sachi\\anaconda3\\lib\\site-packages (from scikit-learn) (1.10.1)\n",
      "Requirement already satisfied: joblib>=1.1.1 in c:\\users\\sachi\\anaconda3\\lib\\site-packages (from scikit-learn) (1.2.0)\n",
      "Requirement already satisfied: threadpoolctl>=2.0.0 in c:\\users\\sachi\\anaconda3\\lib\\site-packages (from scikit-learn) (2.2.0)\n",
      "Requirement already satisfied: contourpy>=1.0.1 in c:\\users\\sachi\\anaconda3\\lib\\site-packages (from matplotlib) (1.2.0)\n",
      "Requirement already satisfied: cycler>=0.10 in c:\\users\\sachi\\anaconda3\\lib\\site-packages (from matplotlib) (0.11.0)\n",
      "Requirement already satisfied: fonttools>=4.22.0 in c:\\users\\sachi\\anaconda3\\lib\\site-packages (from matplotlib) (4.25.0)\n",
      "Requirement already satisfied: kiwisolver>=1.0.1 in c:\\users\\sachi\\anaconda3\\lib\\site-packages (from matplotlib) (1.4.4)\n",
      "Requirement already satisfied: packaging>=20.0 in c:\\users\\sachi\\anaconda3\\lib\\site-packages (from matplotlib) (23.1)\n",
      "Requirement already satisfied: pyparsing>=2.3.1 in c:\\users\\sachi\\anaconda3\\lib\\site-packages (from matplotlib) (3.0.9)\n",
      "Requirement already satisfied: python-dateutil>=2.7 in c:\\users\\sachi\\anaconda3\\lib\\site-packages (from matplotlib) (2.8.2)\n",
      "Requirement already satisfied: colorama in c:\\users\\sachi\\anaconda3\\lib\\site-packages (from tqdm) (0.4.6)\n",
      "Requirement already satisfied: six>=1.5 in c:\\users\\sachi\\anaconda3\\lib\\site-packages (from python-dateutil>=2.7->matplotlib) (1.16.0)\n",
      "Requirement already satisfied: MarkupSafe>=2.0 in c:\\users\\sachi\\anaconda3\\lib\\site-packages (from jinja2->torch) (2.1.3)\n"
     ]
    }
   ],
   "source": [
    "!pip install torch torchvision opencv-python scikit-learn matplotlib tqdm\n"
   ]
  },
  {
   "cell_type": "code",
   "execution_count": 3,
   "id": "22e71bf6-4cc1-460a-978f-4b89f5449e62",
   "metadata": {},
   "outputs": [],
   "source": [
    "import os\n",
    "import cv2\n",
    "import torch\n",
    "import numpy as np\n",
    "import torch.nn as nn\n",
    "from torch.utils.data import Dataset, DataLoader, random_split\n",
    "from torchvision import transforms\n",
    "from sklearn.metrics import classification_report\n",
    "from tqdm import tqdm\n",
    "import matplotlib.pyplot as plt\n",
    "from collections import defaultdict\n",
    "\n",
    "torch.manual_seed(42)\n",
    "np.random.seed(42)\n"
   ]
  },
  {
   "cell_type": "code",
   "execution_count": 4,
   "id": "b74c3060-1daf-455a-93ef-db5ec2b2e473",
   "metadata": {},
   "outputs": [],
   "source": [
    "from torchvision import transforms\n",
    "from collections import Counter\n",
    "\n",
    "class MicroExpressionDataset(Dataset):\n",
    "    def __init__(self, root_dir, seq_len=32, img_size=(128, 128), min_samples=500, augment=True):\n",
    "        self.data = []\n",
    "        self.labels = []\n",
    "        self.label_map = {}\n",
    "        self.seq_len = seq_len\n",
    "        self.img_size = img_size\n",
    "        self.augment = augment\n",
    "        label_id = 0\n",
    "\n",
    "        self.augmentation = transforms.Compose([\n",
    "            transforms.RandomHorizontalFlip(),\n",
    "            transforms.RandomRotation(10),\n",
    "            transforms.ColorJitter(brightness=0.2, contrast=0.2),\n",
    "        ])\n",
    "\n",
    "        for label in sorted(os.listdir(root_dir)):\n",
    "            path = os.path.join(root_dir, label)\n",
    "            files = sorted([f for f in os.listdir(path) if f.endswith('.jpg')])\n",
    "            if len(files) < min_samples:\n",
    "                print(f\"Skipping '{label}' (only {len(files)} frames)\")\n",
    "                continue\n",
    "\n",
    "            self.label_map[label] = label_id\n",
    "            sequences = []\n",
    "\n",
    "            # generate sequences\n",
    "            for i in range(0, len(files) - seq_len + 1, seq_len):\n",
    "                seq = []\n",
    "                for j in range(seq_len):\n",
    "                    img = cv2.imread(os.path.join(path, files[i + j]), cv2.IMREAD_GRAYSCALE)\n",
    "                    img = cv2.resize(img, self.img_size) / 255.0\n",
    "                    seq.append(img)\n",
    "                sequences.append(seq)\n",
    "                self.data.append(np.expand_dims(np.array(seq), axis=1))\n",
    "                self.labels.append(label_id)\n",
    "\n",
    "            # augment minority class\n",
    "            if self.augment and len(sequences) < 5:  # tweak this threshold\n",
    "                for seq in sequences:\n",
    "                    aug_seq = []\n",
    "                    for frame in seq:\n",
    "                        img_pil = transforms.ToPILImage()(torch.tensor(frame).unsqueeze(0))\n",
    "                        aug_img = self.augmentation(img_pil)\n",
    "                        aug_img = transforms.ToTensor()(aug_img).squeeze(0).numpy()\n",
    "                        aug_seq.append(aug_img)\n",
    "                    self.data.append(np.expand_dims(np.array(aug_seq), axis=1))\n",
    "                    self.labels.append(label_id)\n",
    "\n",
    "            label_id += 1\n",
    "\n",
    "        self.data = np.array(self.data, dtype=np.float32)\n",
    "        self.labels = np.array(self.labels, dtype=np.int64)\n",
    "\n",
    "    def __len__(self):\n",
    "        return len(self.data)\n",
    "\n",
    "    def __getitem__(self, idx):\n",
    "        return self.data[idx], self.labels[idx]\n"
   ]
  },
  {
   "cell_type": "code",
   "execution_count": 5,
   "id": "1adb2c54-7d02-478c-a800-07e1d0946d61",
   "metadata": {},
   "outputs": [],
   "source": [
    "import matplotlib.pyplot as plt\n",
    "from collections import Counter\n",
    "\n",
    "def plot_class_distribution(labels, label_map, title):\n",
    "    counter = Counter(labels)\n",
    "    names = list(label_map.keys())\n",
    "    counts = [counter[label_map[name]] for name in names]\n",
    "\n",
    "    plt.figure(figsize=(8, 4))\n",
    "    plt.bar(names, counts, color='skyblue')\n",
    "    plt.title(title)\n",
    "    plt.ylabel(\"Number of Sequences\")\n",
    "    plt.xticks(rotation=45)\n",
    "    plt.grid(axis='y', linestyle='--', alpha=0.6)\n",
    "    plt.tight_layout()\n",
    "    plt.show()\n",
    "\n"
   ]
  },
  {
   "cell_type": "code",
   "execution_count": 6,
   "id": "a87c9d48-2096-46b6-9f9e-f5da1f0997b9",
   "metadata": {},
   "outputs": [],
   "source": [
    "class CNN_LSTM(nn.Module):\n",
    "    def __init__(self, num_classes):\n",
    "        super(CNN_LSTM, self).__init__()\n",
    "        self.cnn = nn.Sequential(\n",
    "            nn.Conv2d(1, 32, kernel_size=3, padding=1), nn.ReLU(),\n",
    "            nn.MaxPool2d(2),\n",
    "            nn.Conv2d(32, 64, kernel_size=3, padding=1), nn.ReLU(),\n",
    "            nn.MaxPool2d(2),\n",
    "            nn.Flatten()\n",
    "        )\n",
    "        self.lstm = nn.LSTM(input_size=64 * 32 * 32, hidden_size=128, num_layers=2, batch_first=True)\n",
    "        self.classifier = nn.Sequential(\n",
    "            nn.Linear(128, 64),\n",
    "            nn.ReLU(),\n",
    "            nn.Dropout(0.5),\n",
    "            nn.Linear(64, num_classes)\n",
    "        )\n",
    "\n",
    "    def forward(self, x):\n",
    "        b, t, c, h, w = x.size()\n",
    "        x = x.view(b * t, c, h, w)\n",
    "        x = self.cnn(x)\n",
    "        x = x.view(b, t, -1)\n",
    "        _, (h_n, _) = self.lstm(x)\n",
    "        return self.classifier(h_n[-1])\n"
   ]
  },
  {
   "cell_type": "code",
   "execution_count": 7,
   "id": "e890670f-8479-4008-a4ba-eda646ad5519",
   "metadata": {},
   "outputs": [],
   "source": [
    "def train_model(model, dataloader, optimizer, loss_fn, device):\n",
    "    model.train()\n",
    "    running_loss = 0\n",
    "    for x, y in tqdm(dataloader):\n",
    "        x, y = x.to(device), y.to(device)\n",
    "        optimizer.zero_grad()\n",
    "        outputs = model(x)\n",
    "        loss = loss_fn(outputs, y)\n",
    "        loss.backward()\n",
    "        optimizer.step()\n",
    "        running_loss += loss.item()\n",
    "    return running_loss / len(dataloader)\n",
    "\n",
    "def evaluate_model(model, dataloader, device, label_map):\n",
    "    model.eval()\n",
    "    y_true, y_pred = [], []\n",
    "    correct_per_class = defaultdict(int)\n",
    "    total_per_class = defaultdict(int)\n",
    "\n",
    "    with torch.no_grad():\n",
    "        for x, y in dataloader:\n",
    "            x, y = x.to(device), y.to(device)\n",
    "            outputs = model(x)\n",
    "            _, preds = torch.max(outputs, 1)\n",
    "            y_true.extend(y.tolist())\n",
    "            y_pred.extend(preds.cpu().tolist())\n",
    "\n",
    "            for t, p in zip(y.tolist(), preds.cpu().tolist()):\n",
    "                total_per_class[t] += 1\n",
    "                if t == p:\n",
    "                    correct_per_class[t] += 1\n",
    "\n",
    "    print(classification_report(y_true, y_pred, target_names=list(label_map.keys())))\n",
    "\n",
    "    print(\"\\nClass-wise Accuracy:\")\n",
    "    # Correct class-wise accuracy output\n",
    "    inv_map = {v: k for k, v in label_map.items()}\n",
    "    for cls_idx in sorted(inv_map.keys()):\n",
    "        correct = correct_per_class[cls_idx]\n",
    "        total = total_per_class[cls_idx]\n",
    "        acc = correct / total if total > 0 else 0\n",
    "        print(f\"{inv_map[cls_idx]:<10}: {acc:.2f}\")\n"
   ]
  },
  {
   "cell_type": "code",
   "execution_count": 8,
   "id": "ad4c48ac",
   "metadata": {},
   "outputs": [
    {
     "name": "stdout",
     "output_type": "stream",
     "text": [
      "Skipping 'fear' (only 127 frames)\n",
      "Skipping 'sadness' (only 274 frames)\n"
     ]
    },
    {
     "data": {
      "image/png": "[encoded data removed]",
      "text/plain": [
       "<Figure size 800x400 with 1 Axes>"
      ]
     },
     "metadata": {},
     "output_type": "display_data"
    }
   ],
   "source": [
    "from sklearn.utils.class_weight import compute_class_weight\n",
    "from torch.utils.data import WeightedRandomSampler\n",
    "\n",
    "# Replace this with the correct path to your dataset\n",
    "data_path = 'C:/Users/sachi/Downloads/CASME2_Preprocessed_ v2'\n",
    "\n",
    "dataset = MicroExpressionDataset(data_path)\n",
    "\n",
    "\n",
    "# Visualize before training\n",
    "plot_class_distribution(dataset.labels, dataset.label_map, \"Class Distribution After Augmentation\")"
   ]
  },
  {
   "cell_type": "code",
   "execution_count": 9,
   "id": "c6a41c42",
   "metadata": {},
   "outputs": [
    {
     "name": "stdout",
     "output_type": "stream",
     "text": [
      "[0 0 0 0 0 0 0 0 0 0 0 0 0 0 0 0 0 0 0 0 0 0 0 0 0 0 0 0 0 0 0 0 0 0 0 0 0\n",
      " 0 0 0 0 0 0 0 0 0 0 0 0 0 0 0 0 0 0 0 0 0 0 0 0 0 0 0 0 0 0 0 0 0 0 0 0 0\n",
      " 0 0 0 0 0 0 0 0 0 0 0 0 0 0 0 0 0 0 0 0 0 0 0 0 0 0 0 0 0 0 0 0 0 0 0 0 0\n",
      " 0 0 0 0 0 0 0 0 0 0 0 0 0 0 0 0 0 0 1 1 1 1 1 1 1 1 1 1 1 1 1 1 1 1 1 1 1\n",
      " 1 1 1 1 1 1 1 1 1 1 1 1 1 1 1 1 1 1 1 1 1 1 1 1 1 1 1 1 1 1 1 1 1 1 1 1 1\n",
      " 1 1 1 1 1 1 1 1 1 1 1 1 1 1 1 1 1 2 2 2 2 2 2 2 2 2 2 2 2 2 2 2 2 2 2 2 2\n",
      " 2 2 2 2 2 2 2 2 2 2 2 2 2 2 2 2 2 2 2 2 2 2 2 2 2 2 2 2 2 2 2 2 2 2 2 2 2\n",
      " 2 2 2 2 2 2 2 2 2 2 2 2 2 2 2 2 2 2 2 2 2 2 2 2 2 2 2 2 2 2 2 2 2 2 2 2 2\n",
      " 2 2 2 2 2 2 2 2 2 2 2 2 2 2 2 2 2 2 2 2 2 2 2 2 2 2 2 2 2 2 2 2 2 2 2 2 2\n",
      " 2 2 2 2 2 2 2 2 2 2 2 2 2 2 2 2 2 2 2 2 2 2 2 2 2 2 2 2 2 2 2 2 2 2 2 2 2\n",
      " 2 2 2 2 2 2 2 2 2 2 2 2 2 2 2 2 2 2 2 2 2 2 2 2 2 2 2 2 2 2 3 3 3 3 3 3 3\n",
      " 3 3 3 3 3 3 3 3 3 3 3 3 3 3 3 3 3 3 3 3 3 3 3 3 3 3 3 3 3 3 3 3 3 3 3 3 3\n",
      " 3 3 3 3 3 3 3 3 3 3 3 3 3 3 3 3 3 3 3 3 3 3 3 3 4 4 4 4 4 4 4 4 4 4 4 4 4\n",
      " 4 4 4 4 4 4 4 4 4 4 4 4 4 4 4 4 4 4 4 4 4 4 4 4 4 4 4 4 4 4 4 4 4 4 4 4]\n"
     ]
    }
   ],
   "source": [
    "print(dataset.labels)"
   ]
  },
  {
   "cell_type": "code",
   "execution_count": 20,
   "id": "d5c86f8a-893a-417d-9ccc-525011f4f616",
   "metadata": {},
   "outputs": [
    {
     "name": "stderr",
     "output_type": "stream",
     "text": [
      "100%|██████████████████████████████████████████████████████████████████████████████████| 52/52 [00:07<00:00,  7.28it/s]\n"
     ]
    },
    {
     "name": "stdout",
     "output_type": "stream",
     "text": [
      "Epoch 1, Loss: 1.5810\n"
     ]
    },
    {
     "name": "stderr",
     "output_type": "stream",
     "text": [
      "100%|██████████████████████████████████████████████████████████████████████████████████| 52/52 [00:06<00:00,  7.69it/s]\n"
     ]
    },
    {
     "name": "stdout",
     "output_type": "stream",
     "text": [
      "Epoch 2, Loss: 1.5464\n"
     ]
    },
    {
     "name": "stderr",
     "output_type": "stream",
     "text": [
      "100%|██████████████████████████████████████████████████████████████████████████████████| 52/52 [00:06<00:00,  7.65it/s]\n"
     ]
    },
    {
     "name": "stdout",
     "output_type": "stream",
     "text": [
      "Epoch 3, Loss: 1.4693\n"
     ]
    },
    {
     "name": "stderr",
     "output_type": "stream",
     "text": [
      "100%|██████████████████████████████████████████████████████████████████████████████████| 52/52 [00:06<00:00,  7.64it/s]\n"
     ]
    },
    {
     "name": "stdout",
     "output_type": "stream",
     "text": [
      "Epoch 4, Loss: 1.2701\n"
     ]
    },
    {
     "name": "stderr",
     "output_type": "stream",
     "text": [
      "100%|██████████████████████████████████████████████████████████████████████████████████| 52/52 [00:06<00:00,  7.65it/s]\n"
     ]
    },
    {
     "name": "stdout",
     "output_type": "stream",
     "text": [
      "Epoch 5, Loss: 1.1384\n"
     ]
    },
    {
     "name": "stderr",
     "output_type": "stream",
     "text": [
      "100%|██████████████████████████████████████████████████████████████████████████████████| 52/52 [00:06<00:00,  7.57it/s]\n"
     ]
    },
    {
     "name": "stdout",
     "output_type": "stream",
     "text": [
      "Epoch 6, Loss: 0.9617\n"
     ]
    },
    {
     "name": "stderr",
     "output_type": "stream",
     "text": [
      "100%|██████████████████████████████████████████████████████████████████████████████████| 52/52 [00:06<00:00,  7.66it/s]\n"
     ]
    },
    {
     "name": "stdout",
     "output_type": "stream",
     "text": [
      "Epoch 7, Loss: 0.8466\n"
     ]
    },
    {
     "name": "stderr",
     "output_type": "stream",
     "text": [
      "100%|██████████████████████████████████████████████████████████████████████████████████| 52/52 [00:06<00:00,  7.51it/s]\n"
     ]
    },
    {
     "name": "stdout",
     "output_type": "stream",
     "text": [
      "Epoch 8, Loss: 0.6899\n"
     ]
    },
    {
     "name": "stderr",
     "output_type": "stream",
     "text": [
      "100%|██████████████████████████████████████████████████████████████████████████████████| 52/52 [00:06<00:00,  7.61it/s]\n"
     ]
    },
    {
     "name": "stdout",
     "output_type": "stream",
     "text": [
      "Epoch 9, Loss: 0.6228\n"
     ]
    },
    {
     "name": "stderr",
     "output_type": "stream",
     "text": [
      "100%|██████████████████████████████████████████████████████████████████████████████████| 52/52 [00:06<00:00,  7.59it/s]\n"
     ]
    },
    {
     "name": "stdout",
     "output_type": "stream",
     "text": [
      "Epoch 10, Loss: 0.5023\n"
     ]
    },
    {
     "name": "stderr",
     "output_type": "stream",
     "text": [
      "100%|██████████████████████████████████████████████████████████████████████████████████| 52/52 [00:06<00:00,  7.58it/s]\n"
     ]
    },
    {
     "name": "stdout",
     "output_type": "stream",
     "text": [
      "Epoch 11, Loss: 0.4475\n"
     ]
    },
    {
     "name": "stderr",
     "output_type": "stream",
     "text": [
      "100%|██████████████████████████████████████████████████████████████████████████████████| 52/52 [00:06<00:00,  7.46it/s]\n"
     ]
    },
    {
     "name": "stdout",
     "output_type": "stream",
     "text": [
      "Epoch 12, Loss: 0.3907\n"
     ]
    },
    {
     "name": "stderr",
     "output_type": "stream",
     "text": [
      "100%|██████████████████████████████████████████████████████████████████████████████████| 52/52 [00:06<00:00,  7.55it/s]\n"
     ]
    },
    {
     "name": "stdout",
     "output_type": "stream",
     "text": [
      "Epoch 13, Loss: 0.2637\n"
     ]
    },
    {
     "name": "stderr",
     "output_type": "stream",
     "text": [
      "100%|██████████████████████████████████████████████████████████████████████████████████| 52/52 [00:06<00:00,  7.58it/s]"
     ]
    },
    {
     "name": "stdout",
     "output_type": "stream",
     "text": [
      "Epoch 14, Loss: 0.2499\n"
     ]
    },
    {
     "name": "stderr",
     "output_type": "stream",
     "text": [
      "\n"
     ]
    }
   ],
   "source": [
    "\n",
    "train_size = int(0.8 * len(dataset))\n",
    "val_size = len(dataset) - train_size\n",
    "train_ds, val_ds = random_split(dataset, [train_size, val_size])\n",
    "\n",
    "def get_balanced_loader(subset, batch_size=8):\n",
    "    full_dataset = subset.dataset\n",
    "    indices = subset.indices\n",
    "    \n",
    "    subset_labels = [full_dataset.labels[i] for i in indices]\n",
    "    class_count = Counter(subset_labels)\n",
    "    class_weights = {cls: 1.0 / count for cls, count in class_count.items()}\n",
    "    sample_weights = [class_weights[label] for label in subset_labels]\n",
    "    \n",
    "    sampler = WeightedRandomSampler(sample_weights, num_samples=len(sample_weights), replacement=True)\n",
    "    loader = DataLoader(subset, batch_size=batch_size, sampler=sampler)\n",
    "    return loader\n",
    "\n",
    "train_loader = get_balanced_loader(train_ds, batch_size=8)\n",
    "val_loader = DataLoader(val_ds, batch_size=8)\n",
    "\n",
    "device = torch.device('cuda' if torch.cuda.is_available() else 'cpu')\n",
    "model = CNN_LSTM(num_classes=len(dataset.label_map)).to(device)\n",
    "\n",
    "# Compute weights\n",
    "class_weights = compute_class_weight(class_weight='balanced',\n",
    "                                     classes=np.unique(dataset.labels),\n",
    "                                     y=dataset.labels)\n",
    "weights = torch.tensor(class_weights, dtype=torch.float).to(device)\n",
    "\n",
    "optimizer = torch.optim.Adam(model.parameters(), lr=1e-4)\n",
    "loss_fn = nn.CrossEntropyLoss(weight=weights)\n",
    "\n",
    "for epoch in range(1, 15):\n",
    "    loss = train_model(model, train_loader, optimizer, loss_fn, device)\n",
    "    print(f\"Epoch {epoch}, Loss: {loss:.4f}\")\n"
   ]
  },
  {
   "cell_type": "code",
   "execution_count": 21,
   "id": "907f184e-0986-4ff3-be5c-eb62636d31fd",
   "metadata": {},
   "outputs": [
    {
     "name": "stdout",
     "output_type": "stream",
     "text": [
      "Evaluation on Validation Set:\n",
      "              precision    recall  f1-score   support\n",
      "\n",
      "     disgust       0.96      0.93      0.95        28\n",
      "   happiness       1.00      0.95      0.97        19\n",
      "      others       0.97      1.00      0.99        33\n",
      "  repression       1.00      1.00      1.00        13\n",
      "    surprise       0.92      1.00      0.96        11\n",
      "\n",
      "    accuracy                           0.97       104\n",
      "   macro avg       0.97      0.98      0.97       104\n",
      "weighted avg       0.97      0.97      0.97       104\n",
      "\n",
      "\n",
      "Class-wise Accuracy:\n",
      "disgust   : 0.93\n",
      "happiness : 0.95\n",
      "others    : 1.00\n",
      "repression: 1.00\n",
      "surprise  : 1.00\n"
     ]
    }
   ],
   "source": [
    "print(\"Evaluation on Validation Set:\")\n",
    "evaluate_model(model, val_loader, device, dataset.label_map)\n"
   ]
  },
  {
   "cell_type": "code",
   "execution_count": null,
   "id": "42ad43bc-1d65-48a0-bb06-44b33eaf62ee",
   "metadata": {},
   "outputs": [],
   "source": []
  }
 ],
 "metadata": {
  "kernelspec": {
   "display_name": "Python [conda env:base] *",
   "language": "python",
   "name": "conda-base-py"
  },
  "language_info": {
   "codemirror_mode": {
    "name": "ipython",
    "version": 3
   },
   "file_extension": ".py",
   "mimetype": "text/x-python",
   "name": "python",
   "nbconvert_exporter": "python",
   "pygments_lexer": "ipython3",
   "version": "3.12.7"
  }
 },
 "nbformat": 4,
 "nbformat_minor": 5
}
